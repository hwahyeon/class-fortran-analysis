{
 "cells": [
  {
   "cell_type": "code",
   "execution_count": 1,
   "metadata": {},
   "outputs": [
    {
     "data": {
      "application/javascript": "\n        if(typeof IPython === 'undefined') {\n            console.log('fortranmagic.py: TDOO: JupyterLab ' +\n                        'syntax highlight - unimplemented.');\n        } else {\n            IPython.CodeCell.options_default\n            .highlight_modes['magic_fortran'] = {'reg':[/^%%fortran/]};\n        }\n        "
     },
     "metadata": {},
     "output_type": "display_data"
    }
   ],
   "source": [
    "%load_ext fortranmagic"
   ]
  },
  {
   "cell_type": "code",
   "execution_count": 4,
   "metadata": {},
   "outputs": [
    {
     "name": "stdout",
     "output_type": "stream",
     "text": [
      "The extension _fortran_magic_d277576078d1a034a8ac782f02e9f63f is already loaded. To reload it, use:\n",
      "  %fortran_config --clean-cache\n"
     ]
    }
   ],
   "source": [
    "%%fortran\n",
    "\n",
    "program hello\n",
    "    print *, \"Hello, Fortran!\"\n",
    "end program hello"
   ]
  }
 ],
 "metadata": {
  "kernelspec": {
   "display_name": "fortran-ipynb",
   "language": "python",
   "name": "python3"
  },
  "language_info": {
   "codemirror_mode": {
    "name": "ipython",
    "version": 3
   },
   "file_extension": ".py",
   "mimetype": "text/x-python",
   "name": "python",
   "nbconvert_exporter": "python",
   "pygments_lexer": "ipython3",
   "version": "3.10.11"
  }
 },
 "nbformat": 4,
 "nbformat_minor": 4
}
